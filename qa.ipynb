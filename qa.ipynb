{
  "nbformat": 4,
  "nbformat_minor": 0,
  "metadata": {
    "colab": {
      "provenance": [],
      "mount_file_id": "1q2YUYDLuLd0htyKDLKt2USKJ93RhVUsT",
      "authorship_tag": "ABX9TyPeYpfmq1STXrUg4Jg1AQbX",
      "include_colab_link": true
    },
    "kernelspec": {
      "name": "python3",
      "display_name": "Python 3"
    },
    "language_info": {
      "name": "python"
    }
  },
  "cells": [
    {
      "cell_type": "markdown",
      "metadata": {
        "id": "view-in-github",
        "colab_type": "text"
      },
      "source": [
        "<a href=\"https://colab.research.google.com/github/ian154/hw1/blob/main/qa.ipynb\" target=\"_parent\"><img src=\"https://colab.research.google.com/assets/colab-badge.svg\" alt=\"Open In Colab\"/></a>"
      ]
    },
    {
      "cell_type": "code",
      "execution_count": null,
      "metadata": {
        "id": "5QLHHOSBhq_K"
      },
      "outputs": [],
      "source": [
        "import pandas as pd"
      ]
    },
    {
      "cell_type": "code",
      "source": [
        "qa_data = pd.read_excel(\"/content/drive/MyDrive/問答/題庫.xlsx\",header=None)\n",
        "qa_data"
      ],
      "metadata": {
        "colab": {
          "base_uri": "https://localhost:8080/",
          "height": 363
        },
        "id": "qaHgKPpWijgy",
        "outputId": "268471a6-2624-492f-ca44-4f2d1be5b09d"
      },
      "execution_count": null,
      "outputs": [
        {
          "output_type": "execute_result",
          "data": {
            "text/plain": [
              "               0     1     2     3    4  5           6\n",
              "0    為什麼超人要穿緊身衣？  可以飛天   怕跌倒   比較帥   救人  四      因為救人要緊\n",
              "1        什麼花生過小孩   百合花    菊花   五月花   荷花  三    因為五月花衛生紙\n",
              "2        什麼動物最專情    大象    獅子    河馬   鯊魚  四      因為不會劈腿\n",
              "3          誰跑得最快    關公    曹操    劉備   張飛  二  因為說曹操 曹操就到\n",
              "4        什麼氣體比較美    氧氣    氮氣  二氧化碳   氫氣  一     因為助燃就是美\n",
              "5    什麼昆蟲生下來就很沒力    蜘蛛    蜻蜓    蝴蝶   蜜蜂  三  因為蝴蝶蝴蝶生得美麗\n",
              "6  壞事一定不可以在什麼時候做    中午    黃昏    早晚   下午  三    因為早晚會有報應\n",
              "7        兩件衣服多少錢    二十    八十    五十   三十  二      因為一件事實\n",
              "8    空手道最強的總統是誰呢    雷根   羅斯福    布希   川普  二   因為羅斯福路有六段\n",
              "9      什麼動物不會講話的    老虎    大象     狗    鹿  三     因為亞巴的台語"
            ],
            "text/html": [
              "\n",
              "  <div id=\"df-305ebcba-07d5-4cd4-81f8-e29fd5317d87\">\n",
              "    <div class=\"colab-df-container\">\n",
              "      <div>\n",
              "<style scoped>\n",
              "    .dataframe tbody tr th:only-of-type {\n",
              "        vertical-align: middle;\n",
              "    }\n",
              "\n",
              "    .dataframe tbody tr th {\n",
              "        vertical-align: top;\n",
              "    }\n",
              "\n",
              "    .dataframe thead th {\n",
              "        text-align: right;\n",
              "    }\n",
              "</style>\n",
              "<table border=\"1\" class=\"dataframe\">\n",
              "  <thead>\n",
              "    <tr style=\"text-align: right;\">\n",
              "      <th></th>\n",
              "      <th>0</th>\n",
              "      <th>1</th>\n",
              "      <th>2</th>\n",
              "      <th>3</th>\n",
              "      <th>4</th>\n",
              "      <th>5</th>\n",
              "      <th>6</th>\n",
              "    </tr>\n",
              "  </thead>\n",
              "  <tbody>\n",
              "    <tr>\n",
              "      <th>0</th>\n",
              "      <td>為什麼超人要穿緊身衣？</td>\n",
              "      <td>可以飛天</td>\n",
              "      <td>怕跌倒</td>\n",
              "      <td>比較帥</td>\n",
              "      <td>救人</td>\n",
              "      <td>四</td>\n",
              "      <td>因為救人要緊</td>\n",
              "    </tr>\n",
              "    <tr>\n",
              "      <th>1</th>\n",
              "      <td>什麼花生過小孩</td>\n",
              "      <td>百合花</td>\n",
              "      <td>菊花</td>\n",
              "      <td>五月花</td>\n",
              "      <td>荷花</td>\n",
              "      <td>三</td>\n",
              "      <td>因為五月花衛生紙</td>\n",
              "    </tr>\n",
              "    <tr>\n",
              "      <th>2</th>\n",
              "      <td>什麼動物最專情</td>\n",
              "      <td>大象</td>\n",
              "      <td>獅子</td>\n",
              "      <td>河馬</td>\n",
              "      <td>鯊魚</td>\n",
              "      <td>四</td>\n",
              "      <td>因為不會劈腿</td>\n",
              "    </tr>\n",
              "    <tr>\n",
              "      <th>3</th>\n",
              "      <td>誰跑得最快</td>\n",
              "      <td>關公</td>\n",
              "      <td>曹操</td>\n",
              "      <td>劉備</td>\n",
              "      <td>張飛</td>\n",
              "      <td>二</td>\n",
              "      <td>因為說曹操 曹操就到</td>\n",
              "    </tr>\n",
              "    <tr>\n",
              "      <th>4</th>\n",
              "      <td>什麼氣體比較美</td>\n",
              "      <td>氧氣</td>\n",
              "      <td>氮氣</td>\n",
              "      <td>二氧化碳</td>\n",
              "      <td>氫氣</td>\n",
              "      <td>一</td>\n",
              "      <td>因為助燃就是美</td>\n",
              "    </tr>\n",
              "    <tr>\n",
              "      <th>5</th>\n",
              "      <td>什麼昆蟲生下來就很沒力</td>\n",
              "      <td>蜘蛛</td>\n",
              "      <td>蜻蜓</td>\n",
              "      <td>蝴蝶</td>\n",
              "      <td>蜜蜂</td>\n",
              "      <td>三</td>\n",
              "      <td>因為蝴蝶蝴蝶生得美麗</td>\n",
              "    </tr>\n",
              "    <tr>\n",
              "      <th>6</th>\n",
              "      <td>壞事一定不可以在什麼時候做</td>\n",
              "      <td>中午</td>\n",
              "      <td>黃昏</td>\n",
              "      <td>早晚</td>\n",
              "      <td>下午</td>\n",
              "      <td>三</td>\n",
              "      <td>因為早晚會有報應</td>\n",
              "    </tr>\n",
              "    <tr>\n",
              "      <th>7</th>\n",
              "      <td>兩件衣服多少錢</td>\n",
              "      <td>二十</td>\n",
              "      <td>八十</td>\n",
              "      <td>五十</td>\n",
              "      <td>三十</td>\n",
              "      <td>二</td>\n",
              "      <td>因為一件事實</td>\n",
              "    </tr>\n",
              "    <tr>\n",
              "      <th>8</th>\n",
              "      <td>空手道最強的總統是誰呢</td>\n",
              "      <td>雷根</td>\n",
              "      <td>羅斯福</td>\n",
              "      <td>布希</td>\n",
              "      <td>川普</td>\n",
              "      <td>二</td>\n",
              "      <td>因為羅斯福路有六段</td>\n",
              "    </tr>\n",
              "    <tr>\n",
              "      <th>9</th>\n",
              "      <td>什麼動物不會講話的</td>\n",
              "      <td>老虎</td>\n",
              "      <td>大象</td>\n",
              "      <td>狗</td>\n",
              "      <td>鹿</td>\n",
              "      <td>三</td>\n",
              "      <td>因為亞巴的台語</td>\n",
              "    </tr>\n",
              "  </tbody>\n",
              "</table>\n",
              "</div>\n",
              "      <button class=\"colab-df-convert\" onclick=\"convertToInteractive('df-305ebcba-07d5-4cd4-81f8-e29fd5317d87')\"\n",
              "              title=\"Convert this dataframe to an interactive table.\"\n",
              "              style=\"display:none;\">\n",
              "        \n",
              "  <svg xmlns=\"http://www.w3.org/2000/svg\" height=\"24px\"viewBox=\"0 0 24 24\"\n",
              "       width=\"24px\">\n",
              "    <path d=\"M0 0h24v24H0V0z\" fill=\"none\"/>\n",
              "    <path d=\"M18.56 5.44l.94 2.06.94-2.06 2.06-.94-2.06-.94-.94-2.06-.94 2.06-2.06.94zm-11 1L8.5 8.5l.94-2.06 2.06-.94-2.06-.94L8.5 2.5l-.94 2.06-2.06.94zm10 10l.94 2.06.94-2.06 2.06-.94-2.06-.94-.94-2.06-.94 2.06-2.06.94z\"/><path d=\"M17.41 7.96l-1.37-1.37c-.4-.4-.92-.59-1.43-.59-.52 0-1.04.2-1.43.59L10.3 9.45l-7.72 7.72c-.78.78-.78 2.05 0 2.83L4 21.41c.39.39.9.59 1.41.59.51 0 1.02-.2 1.41-.59l7.78-7.78 2.81-2.81c.8-.78.8-2.07 0-2.86zM5.41 20L4 18.59l7.72-7.72 1.47 1.35L5.41 20z\"/>\n",
              "  </svg>\n",
              "      </button>\n",
              "      \n",
              "  <style>\n",
              "    .colab-df-container {\n",
              "      display:flex;\n",
              "      flex-wrap:wrap;\n",
              "      gap: 12px;\n",
              "    }\n",
              "\n",
              "    .colab-df-convert {\n",
              "      background-color: #E8F0FE;\n",
              "      border: none;\n",
              "      border-radius: 50%;\n",
              "      cursor: pointer;\n",
              "      display: none;\n",
              "      fill: #1967D2;\n",
              "      height: 32px;\n",
              "      padding: 0 0 0 0;\n",
              "      width: 32px;\n",
              "    }\n",
              "\n",
              "    .colab-df-convert:hover {\n",
              "      background-color: #E2EBFA;\n",
              "      box-shadow: 0px 1px 2px rgba(60, 64, 67, 0.3), 0px 1px 3px 1px rgba(60, 64, 67, 0.15);\n",
              "      fill: #174EA6;\n",
              "    }\n",
              "\n",
              "    [theme=dark] .colab-df-convert {\n",
              "      background-color: #3B4455;\n",
              "      fill: #D2E3FC;\n",
              "    }\n",
              "\n",
              "    [theme=dark] .colab-df-convert:hover {\n",
              "      background-color: #434B5C;\n",
              "      box-shadow: 0px 1px 3px 1px rgba(0, 0, 0, 0.15);\n",
              "      filter: drop-shadow(0px 1px 2px rgba(0, 0, 0, 0.3));\n",
              "      fill: #FFFFFF;\n",
              "    }\n",
              "  </style>\n",
              "\n",
              "      <script>\n",
              "        const buttonEl =\n",
              "          document.querySelector('#df-305ebcba-07d5-4cd4-81f8-e29fd5317d87 button.colab-df-convert');\n",
              "        buttonEl.style.display =\n",
              "          google.colab.kernel.accessAllowed ? 'block' : 'none';\n",
              "\n",
              "        async function convertToInteractive(key) {\n",
              "          const element = document.querySelector('#df-305ebcba-07d5-4cd4-81f8-e29fd5317d87');\n",
              "          const dataTable =\n",
              "            await google.colab.kernel.invokeFunction('convertToInteractive',\n",
              "                                                     [key], {});\n",
              "          if (!dataTable) return;\n",
              "\n",
              "          const docLinkHtml = 'Like what you see? Visit the ' +\n",
              "            '<a target=\"_blank\" href=https://colab.research.google.com/notebooks/data_table.ipynb>data table notebook</a>'\n",
              "            + ' to learn more about interactive tables.';\n",
              "          element.innerHTML = '';\n",
              "          dataTable['output_type'] = 'display_data';\n",
              "          await google.colab.output.renderOutput(dataTable, element);\n",
              "          const docLink = document.createElement('div');\n",
              "          docLink.innerHTML = docLinkHtml;\n",
              "          element.appendChild(docLink);\n",
              "        }\n",
              "      </script>\n",
              "    </div>\n",
              "  </div>\n",
              "  "
            ]
          },
          "metadata": {},
          "execution_count": 2
        }
      ]
    },
    {
      "cell_type": "code",
      "source": [
        "qa_data.iloc[0][0]"
      ],
      "metadata": {
        "colab": {
          "base_uri": "https://localhost:8080/",
          "height": 36
        },
        "id": "BJ1r72EFjwfh",
        "outputId": "9462877f-1981-4843-de40-ed205b07ea5d"
      },
      "execution_count": null,
      "outputs": [
        {
          "output_type": "execute_result",
          "data": {
            "text/plain": [
              "'為什麼超人要穿緊身衣？'"
            ],
            "application/vnd.google.colaboratory.intrinsic+json": {
              "type": "string"
            }
          },
          "metadata": {},
          "execution_count": 3
        }
      ]
    },
    {
      "cell_type": "code",
      "source": [
        "len(qa_data)"
      ],
      "metadata": {
        "colab": {
          "base_uri": "https://localhost:8080/"
        },
        "id": "IMBBUiqSj0bA",
        "outputId": "b8f9a93c-256d-4f33-8b2c-365279d1a406"
      },
      "execution_count": null,
      "outputs": [
        {
          "output_type": "execute_result",
          "data": {
            "text/plain": [
              "10"
            ]
          },
          "metadata": {},
          "execution_count": 5
        }
      ]
    },
    {
      "cell_type": "code",
      "source": [
        "import random"
      ],
      "metadata": {
        "id": "5wanpkosj34I"
      },
      "execution_count": null,
      "outputs": []
    },
    {
      "cell_type": "code",
      "source": [
        "q_count = 3\n",
        "li = range(0,len(qa_data))\n",
        "li"
      ],
      "metadata": {
        "colab": {
          "base_uri": "https://localhost:8080/"
        },
        "id": "bUqG61W6l-PS",
        "outputId": "ef7dbab6-f024-4b70-dcf5-06423a1fea7a"
      },
      "execution_count": null,
      "outputs": [
        {
          "output_type": "execute_result",
          "data": {
            "text/plain": [
              "range(0, 10)"
            ]
          },
          "metadata": {},
          "execution_count": 13
        }
      ]
    },
    {
      "cell_type": "code",
      "source": [
        "q_index = random.sample(li,q_count)\n",
        "q_index"
      ],
      "metadata": {
        "colab": {
          "base_uri": "https://localhost:8080/"
        },
        "id": "X1KF0hAfmNkT",
        "outputId": "d5bd76f0-3b7c-40b6-a2bd-ebd3776a1aaf"
      },
      "execution_count": null,
      "outputs": [
        {
          "output_type": "execute_result",
          "data": {
            "text/plain": [
              "[3, 2, 1]"
            ]
          },
          "metadata": {},
          "execution_count": 17
        }
      ]
    },
    {
      "cell_type": "code",
      "source": [
        "for i in range(q_count):\n",
        "  print(qa_data.iloc[q_index[i]][0])\n",
        "  q_item = \"一、\"+qa_data.iloc[q_index[i]][1] + \" 二、\"+qa_data.iloc[q_index[i]][2]+ \" 三、\"+qa_data.iloc[q_index[i]][3]+ \" 四、\"+qa_data.iloc[q_index[i]][4]\n",
        "  print(q_item)\n",
        "\n",
        "  a = input(\"請輸入答案:\")\n",
        "  if a == qa_data.iloc[q_index[i]][5]:\n",
        "    print(\"答對\")\n",
        "  else:\n",
        "    print(\"答錯\" + \"正確答案是 \" + qa_data.iloc[q_index[i]][5] + qa_data.iloc[q_index[i]][6])"
      ],
      "metadata": {
        "colab": {
          "base_uri": "https://localhost:8080/"
        },
        "id": "04hQK2DUmz4j",
        "outputId": "c202d3e2-49ea-4ab8-8ce1-554c8055c301"
      },
      "execution_count": null,
      "outputs": [
        {
          "output_type": "stream",
          "name": "stdout",
          "text": [
            "誰跑得最快\n",
            "一、關公 二、曹操 三、劉備 四、張飛\n",
            "請輸入答案:3\n",
            "答錯正確答案是 二因為說曹操 曹操就到\n",
            "什麼動物最專情\n",
            "一、大象 二、獅子 三、河馬 四、鯊魚\n",
            "請輸入答案:3\n",
            "答錯正確答案是 四因為不會劈腿\n",
            "什麼花生過小孩\n",
            "一、百合花 二、菊花 三、五月花 四、荷花\n",
            "請輸入答案:3\n",
            "答錯正確答案是 三因為五月花衛生紙\n"
          ]
        }
      ]
    },
    {
      "cell_type": "code",
      "source": [],
      "metadata": {
        "id": "wdgB7QsOmzyT"
      },
      "execution_count": null,
      "outputs": []
    }
  ]
}